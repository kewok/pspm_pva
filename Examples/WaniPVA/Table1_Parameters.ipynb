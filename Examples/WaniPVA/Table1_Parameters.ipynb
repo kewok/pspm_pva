{
 "cells": [
  {
   "cell_type": "markdown",
   "id": "3701926b",
   "metadata": {},
   "source": [
    "# Supplementary File \n",
    "# Inferring Table 1 Parameter Values "
   ]
  },
  {
   "cell_type": "markdown",
   "id": "53b2a484",
   "metadata": {},
   "source": [
    "This notebook describes how the numerical parameter estimates in Table 1 were inferred from the data sources described in Table 1. For consistency throughout up to four significant digits are displayed and time units are scaled as 1/90 yrs as per the code in http://github.com/kewok/wanipva. The tables \"fish_alpha.txt\" and \"MedemFood1C_PrimaryVert.txt\" can be obtained from the code repository. Additional parameter values are reported directly in the references and so are fixed as global variables here."
   ]
  },
  {
   "cell_type": "code",
   "execution_count": 3,
   "id": "7b2654aa",
   "metadata": {
    "vscode": {
     "languageId": "r"
    }
   },
   "outputs": [],
   "source": [
    "significant_digits <- 4\n",
    "intra_step_time_steps <- 90"
   ]
  },
  {
   "cell_type": "markdown",
   "id": "082a8b0d",
   "metadata": {},
   "source": [
    "## Directly reported parameter values"
   ]
  },
  {
   "cell_type": "code",
   "execution_count": 4,
   "id": "b39af04c",
   "metadata": {
    "vscode": {
     "languageId": "r"
    }
   },
   "outputs": [],
   "source": [
    "maximum_weight <- 58000 # Ojasti 1996\n",
    "p_epsilon <- 0.225 # Ojasti 1996\n",
    "max_age <- 40 # Weigl 2014\n",
    "L_e <- 3.0 # Saalfeld et al. 2008\n",
    "mu <- 0.75 # West et al. 2017"
   ]
  },
  {
   "cell_type": "markdown",
   "id": "64f5a752",
   "metadata": {},
   "source": [
    "## Parameters related to somatic growth without resource scarcity: $c_e, \\gamma, m_c$, and the length-weight conversion terms."
   ]
  },
  {
   "cell_type": "markdown",
   "id": "8797ed55",
   "metadata": {},
   "source": [
    "Parameters related to somatic growth are inferred under *ad libitum* feeding in Perez-Talavera"
   ]
  },
  {
   "cell_type": "code",
   "execution_count": 5,
   "id": "aa713f28",
   "metadata": {
    "vscode": {
     "languageId": "r"
    }
   },
   "outputs": [
    {
     "name": "stderr",
     "output_type": "stream",
     "text": [
      "Loading required package: deSolve\n",
      "\n",
      "Loading required package: rootSolve\n",
      "\n",
      "Loading required package: coda\n",
      "\n"
     ]
    }
   ],
   "source": [
    "\n",
    "library(minpack.lm)\n",
    "library(FME)\n",
    "wt <-  c(38.2,150,300,600,1100,1400,1900,2300,2500,3100,maximum_weight) # Weight at month (based on mean values in Perez Talavera collected via datathief; Fig. 2)\n",
    "times <- c(seq(30,300,30)*(intra_step_time_steps/365),40*intra_step_time_steps) # first ten months data from Perez Talavera and per Weigl 2014 assume maximum age of 40 years (so units are days)\n",
    "\n",
    "xstart <- c(W=38.2)\n",
    "\n",
    "grow <- function(t, x, parms)\t{\n",
    "\twith(as.list(c(parms, x)), {\n",
    "\tc_e <- parms$c_e\n",
    "\tm_c <- parms$m_c\n",
    "\tg1 <- parms$g1\n",
    "\tg2 <- mu\n",
    "\n",
    "\tdW <- c_e*W^g1-m_c*W^g2\n",
    "\tlist(dW)\n",
    "\t})\n",
    "\t}\n",
    "\n",
    "pred <- function(parms)\n",
    "\t{\n",
    "\tc_e <- parms[1]\n",
    "\tm_c <- parms[2]\n",
    "\tg1 <- parms[3]\n",
    "\tg2 <- mu\n",
    "\tout <- lsoda(xstart, times, grow, parms=list(c_e=c_e,m_c=m_c,g1=g1,g2=g2),maxsteps=2e5)\n",
    "\treturn(out)\n",
    "\t}\n",
    "\n",
    "# FME version\n",
    "\n",
    "rss <- function(parms)\n",
    "\t{\n",
    "\tdata <- cbind(times, log(wt))\n",
    "\tcolnames(data) <- c('time','W')\n",
    "\n",
    "\tc_e <- parms[1]\n",
    "\tm_c <- parms[2]\n",
    "\tg1 <- parms[3]\n",
    "\tg2 <- mu \n",
    "\n",
    "\tout <- lsoda(xstart, times, grow, parms=list(c_e=c_e,m_c=m_c,g1=g1,g2=g2),maxsteps=2e5,atol=.Machine$double.eps)\n",
    "\t# Ensure that the predicted function is always increasing; otherwise return garbage\n",
    "\tif (is.na(out[2,2]))\n",
    "\t\t{\n",
    "\t\tout[2:nrow(out),2] <- rep(1e-10,nrow(out)-1)\n",
    "\t\t}\n",
    "\tif (out[1,2] > out[2,2])\n",
    "\t\t{\n",
    "\t\tout[2:nrow(out),2] <- rep(1e-10,nrow(out)-1)\n",
    "\t\t}\n",
    "\tout[,2] <- log(out[,2])\n",
    "\treturn(modCost(obs=data, model=out))\n",
    "\t}"
   ]
  },
  {
   "cell_type": "markdown",
   "id": "54c36393",
   "metadata": {},
   "source": [
    "Initial guess"
   ]
  },
  {
   "cell_type": "code",
   "execution_count": 6,
   "id": "ac837284",
   "metadata": {
    "vscode": {
     "languageId": "r"
    }
   },
   "outputs": [
    {
     "data": {
      "text/html": [
       "<table class=\"dataframe\">\n",
       "<caption>A matrix: 11 × 3 of type dbl</caption>\n",
       "<thead>\n",
       "\t<tr><th scope=col>time</th><th scope=col>W</th><th scope=col>wt</th></tr>\n",
       "</thead>\n",
       "<tbody>\n",
       "\t<tr><td>   7.39726</td><td>   38.2000</td><td>   38.2</td></tr>\n",
       "\t<tr><td>  14.79452</td><td>  152.5658</td><td>  150.0</td></tr>\n",
       "\t<tr><td>  22.19178</td><td>  343.6423</td><td>  300.0</td></tr>\n",
       "\t<tr><td>  29.58904</td><td>  606.2972</td><td>  600.0</td></tr>\n",
       "\t<tr><td>  36.98630</td><td>  934.2701</td><td> 1100.0</td></tr>\n",
       "\t<tr><td>  44.38356</td><td> 1321.2240</td><td> 1400.0</td></tr>\n",
       "\t<tr><td>  51.78082</td><td> 1761.0994</td><td> 1900.0</td></tr>\n",
       "\t<tr><td>  59.17808</td><td> 2248.2366</td><td> 2300.0</td></tr>\n",
       "\t<tr><td>  66.57534</td><td> 2777.4084</td><td> 2500.0</td></tr>\n",
       "\t<tr><td>  73.97260</td><td> 3343.8173</td><td> 3100.0</td></tr>\n",
       "\t<tr><td>3600.00000</td><td>57778.9145</td><td>58000.0</td></tr>\n",
       "</tbody>\n",
       "</table>\n"
      ],
      "text/latex": [
       "A matrix: 11 × 3 of type dbl\n",
       "\\begin{tabular}{lll}\n",
       " time & W & wt\\\\\n",
       "\\hline\n",
       "\t    7.39726 &    38.2000 &    38.2\\\\\n",
       "\t   14.79452 &   152.5658 &   150.0\\\\\n",
       "\t   22.19178 &   343.6423 &   300.0\\\\\n",
       "\t   29.58904 &   606.2972 &   600.0\\\\\n",
       "\t   36.98630 &   934.2701 &  1100.0\\\\\n",
       "\t   44.38356 &  1321.2240 &  1400.0\\\\\n",
       "\t   51.78082 &  1761.0994 &  1900.0\\\\\n",
       "\t   59.17808 &  2248.2366 &  2300.0\\\\\n",
       "\t   66.57534 &  2777.4084 &  2500.0\\\\\n",
       "\t   73.97260 &  3343.8173 &  3100.0\\\\\n",
       "\t 3600.00000 & 57778.9145 & 58000.0\\\\\n",
       "\\end{tabular}\n"
      ],
      "text/markdown": [
       "\n",
       "A matrix: 11 × 3 of type dbl\n",
       "\n",
       "| time | W | wt |\n",
       "|---|---|---|\n",
       "|    7.39726 |    38.2000 |    38.2 |\n",
       "|   14.79452 |   152.5658 |   150.0 |\n",
       "|   22.19178 |   343.6423 |   300.0 |\n",
       "|   29.58904 |   606.2972 |   600.0 |\n",
       "|   36.98630 |   934.2701 |  1100.0 |\n",
       "|   44.38356 |  1321.2240 |  1400.0 |\n",
       "|   51.78082 |  1761.0994 |  1900.0 |\n",
       "|   59.17808 |  2248.2366 |  2300.0 |\n",
       "|   66.57534 |  2777.4084 |  2500.0 |\n",
       "|   73.97260 |  3343.8173 |  3100.0 |\n",
       "| 3600.00000 | 57778.9145 | 58000.0 |\n",
       "\n"
      ],
      "text/plain": [
       "      time       W          wt     \n",
       " [1,]    7.39726    38.2000    38.2\n",
       " [2,]   14.79452   152.5658   150.0\n",
       " [3,]   22.19178   343.6423   300.0\n",
       " [4,]   29.58904   606.2972   600.0\n",
       " [5,]   36.98630   934.2701  1100.0\n",
       " [6,]   44.38356  1321.2240  1400.0\n",
       " [7,]   51.78082  1761.0994  1900.0\n",
       " [8,]   59.17808  2248.2366  2300.0\n",
       " [9,]   66.57534  2777.4084  2500.0\n",
       "[10,]   73.97260  3343.8173  3100.0\n",
       "[11,] 3600.00000 57778.9145 58000.0"
      ]
     },
     "metadata": {},
     "output_type": "display_data"
    },
    {
     "name": "stdout",
     "output_type": "stream",
     "text": [
      "[1] \"Somatic growth and metabolism parameters:\"\n",
      "   c_e    m_c     g1 \n",
      "1.7140 0.3541 0.6062 \n"
     ]
    }
   ],
   "source": [
    "\n",
    "f <- function(c_e,m_c,g1)\n",
    "\t{\n",
    "\tfitval$par['c_e']=c_e\n",
    "\tfitval$par['m_c']=m_c\n",
    "\tfitval$par['g1']=g1\n",
    "\t}\n",
    "#e,g,m f(2,0.5,.75)\n",
    "parms <- c(c_e=2,m_c=0.5,g1=0.75)\n",
    "\n",
    "fitval <- modFit(p=parms, f=rss, lower=c(1e-6,1e-6,0.5),upper=c(20,20,5))\n",
    "cbind(lsoda(xstart,times,grow, as.list(fitval$par),maxsteps=2e5), wt)\n",
    "print(\"Somatic growth and metabolism parameters:\")\n",
    "print(signif(fitval$par,significant_digits))"
   ]
  },
  {
   "cell_type": "markdown",
   "id": "1db6b48b",
   "metadata": {},
   "source": [
    "## Inferring the juvenile and adult maximum conditions $q_J$ and $q_A$\n",
    "\n",
    "Using data in Congdon et al. 1995, $\\max$(lipid)/$\\min$(protein + ash mass) ="
   ]
  },
  {
   "cell_type": "code",
   "execution_count": 7,
   "id": "cdea9f3f",
   "metadata": {
    "vscode": {
     "languageId": "r"
    }
   },
   "outputs": [],
   "source": [
    "q_J <- 3.29/(3.9+0.56) # probably on the lower end (however, quite comparable to Persson 1998)"
   ]
  },
  {
   "cell_type": "markdown",
   "id": "c5006eef",
   "metadata": {},
   "source": [
    "From Thorjarnarson 1994, relative clutch mass of 0.15 at maximum (pg 915 table 8) so simplify: \n",
    "\n",
    "$((x+q_A x)-(x+q_J x))/(x + q_A x) = (q_A x-q_J x)/(x+q_A x)$\n",
    "\n",
    "$\\rightarrow 0.15 = (q_A-q_J)/(1+q_A)$\n",
    "\n",
    "$\\rightarrow qA = (-q_J/.15-1)/(1-1/.15)$\n",
    "\n",
    "And thus"
   ]
  },
  {
   "cell_type": "code",
   "execution_count": 8,
   "id": "dfdf55be",
   "metadata": {
    "vscode": {
     "languageId": "r"
    }
   },
   "outputs": [
    {
     "name": "stdout",
     "output_type": "stream",
     "text": [
      "[1] \"Juvenile and adult maximum condition:\"\n",
      "[1] 0.7377 1.0440\n"
     ]
    }
   ],
   "source": [
    "\n",
    "q_A <- (-q_J/.15-1)/(1-1/.15)\n",
    "print(\"Juvenile and adult maximum condition:\")\n",
    "print(signif(c(q_J,q_A),significant_digits))"
   ]
  },
  {
   "cell_type": "markdown",
   "id": "cf56d14d",
   "metadata": {
    "vscode": {
     "languageId": "r"
    }
   },
   "source": [
    "## Conversion scalar $L_s$ of irreversible weight to length "
   ]
  },
  {
   "cell_type": "markdown",
   "id": "cf279e05",
   "metadata": {},
   "source": [
    "Total length (cm) and weight at month (g); tanque 1 from Perez-Talavera 2000 Fig. 1"
   ]
  },
  {
   "cell_type": "code",
   "execution_count": 9,
   "id": "8a605757",
   "metadata": {
    "vscode": {
     "languageId": "r"
    }
   },
   "outputs": [],
   "source": [
    "tls <- c(22.5,32,44,56,64,72,80,84,88,96)\n",
    "wt <-  c(38.2,150,300,600,1100,1400,1900,2300,2500,3100)"
   ]
  },
  {
   "cell_type": "markdown",
   "id": "7cd710d6",
   "metadata": {},
   "source": [
    "Since these are all TL < 120cm (the female size at maturation from Thorbjarnarson 94), assuming maximum condition for juveniles that wt in terms of irreversible mass are:\n"
   ]
  },
  {
   "cell_type": "code",
   "execution_count": 10,
   "id": "7c888958",
   "metadata": {
    "vscode": {
     "languageId": "r"
    }
   },
   "outputs": [
    {
     "data": {
      "text/plain": [
       "\n",
       "Call:\n",
       "lm(formula = tls ~ wtf)\n",
       "\n",
       "Residuals:\n",
       "    Min      1Q  Median      3Q     Max \n",
       "-2.5600 -0.9889  0.1777  1.1117  1.7651 \n",
       "\n",
       "Coefficients:\n",
       "            Estimate Std. Error t value Pr(>|t|)    \n",
       "(Intercept)  -0.5300     1.4845  -0.357     0.73    \n",
       "wtf           7.8136     0.1693  46.160 5.36e-11 ***\n",
       "---\n",
       "Signif. codes:  0 ‘***’ 0.001 ‘**’ 0.01 ‘*’ 0.05 ‘.’ 0.1 ‘ ’ 1\n",
       "\n",
       "Residual standard error: 1.608 on 8 degrees of freedom\n",
       "Multiple R-squared:  0.9963,\tAdjusted R-squared:  0.9958 \n",
       "F-statistic:  2131 on 1 and 8 DF,  p-value: 5.361e-11\n"
      ]
     },
     "metadata": {},
     "output_type": "display_data"
    },
    {
     "name": "stdout",
     "output_type": "stream",
     "text": [
      "[1] \"Length weight regression coefficient\"\n",
      "[1] 7.814\n",
      "[1] \"In decimal form\"\n",
      "  wtf \n",
      "0.128 \n"
     ]
    }
   ],
   "source": [
    "\n",
    "wtX <- wt/(1+q_J)\n",
    "\n",
    "wtf <- wtX^(1/L_e)\n",
    "summary(lm(tls~wtf))\n",
    "print(\"Length weight regression coefficient\")\n",
    "print(signif(summary(lm(tls~wtf))$coefficients[2,1],significant_digits))\n",
    "# So to convert total length to weight, coefficient of wtX^(1/3) is 7.814; note constant is 0 (p=0.73)\n",
    "print(\"In decimal form\")\n",
    "print(signif(1/(lm(tls~wtf)$coefficients[2]),significant_digits))\n"
   ]
  },
  {
   "cell_type": "markdown",
   "id": "5f76d1a2",
   "metadata": {},
   "source": [
    "## Parameters governing consumption in response to scarcity: $a,h$\n",
    "\n",
    "Based on high protein diet, Staton et al. 1990 Table 5. daily consumption:\n"
   ]
  },
  {
   "cell_type": "code",
   "execution_count": 11,
   "id": "efdab5be",
   "metadata": {
    "vscode": {
     "languageId": "r"
    }
   },
   "outputs": [],
   "source": [
    "df2 <- c(0, 1,2,3,3,5,5,6,7)/7"
   ]
  },
  {
   "cell_type": "markdown",
   "id": "a48da475",
   "metadata": {},
   "source": [
    "Food intake (dry matter consumption on protein diet):"
   ]
  },
  {
   "cell_type": "code",
   "execution_count": 12,
   "id": "fcbcf86b",
   "metadata": {
    "vscode": {
     "languageId": "r"
    }
   },
   "outputs": [
    {
     "data": {
      "text/plain": [
       "\n",
       "Formula: y ~ a * (df2)/(1 + a * h * (df2))\n",
       "\n",
       "Parameters:\n",
       "  Estimate Std. Error t value Pr(>|t|)    \n",
       "a   3.2085     0.5275   6.083    5e-04 ***\n",
       "h   0.7567     0.0825   9.172 3.77e-05 ***\n",
       "---\n",
       "Signif. codes:  0 ‘***’ 0.001 ‘**’ 0.01 ‘*’ 0.05 ‘.’ 0.1 ‘ ’ 1\n",
       "\n",
       "Residual standard error: 0.05851 on 7 degrees of freedom\n",
       "\n",
       "Number of iterations to convergence: 5 \n",
       "Achieved convergence tolerance: 1.114e-06\n"
      ]
     },
     "metadata": {},
     "output_type": "display_data"
    },
    {
     "name": "stdout",
     "output_type": "stream",
     "text": [
      "[1] \"Consumption in response to scarcity parameters:\"\n",
      "     a      h \n",
      "3.2080 0.7567 \n"
     ]
    },
    {
     "data": {
      "text/plain": [
       "\n",
       "Call:\n",
       "lm(formula = fu(df2) ~ y)\n",
       "\n",
       "Residuals:\n",
       "     Min       1Q   Median       3Q      Max \n",
       "-0.09381 -0.02756 -0.01622  0.03770  0.07089 \n",
       "\n",
       "Coefficients:\n",
       "            Estimate Std. Error t value Pr(>|t|)    \n",
       "(Intercept)  0.02756    0.04506   0.612     0.56    \n",
       "y            0.95881    0.06430  14.912 1.46e-06 ***\n",
       "---\n",
       "Signif. codes:  0 ‘***’ 0.001 ‘**’ 0.01 ‘*’ 0.05 ‘.’ 0.1 ‘ ’ 1\n",
       "\n",
       "Residual standard error: 0.05685 on 7 degrees of freedom\n",
       "Multiple R-squared:  0.9695,\tAdjusted R-squared:  0.9651 \n",
       "F-statistic: 222.4 on 1 and 7 DF,  p-value: 1.463e-06\n"
      ]
     },
     "metadata": {},
     "output_type": "display_data"
    }
   ],
   "source": [
    "y <- c(0, 212,399,499,519,582,557,722,641)/722\n",
    "\n",
    "zz <- nls(y ~ a*(df2)/(1+a*h*(df2)), start=list(a=3,h=1) )\n",
    "\n",
    "summary(zz)\n",
    "print(\"Consumption in response to scarcity parameters:\")\n",
    "print(signif(summary(zz)$coefficients[,1],significant_digits))\n",
    "fu <- function(x) 3.208*x/(1+3.208*x*0.7567)\n",
    "\n",
    "# Pseudo R-sq.\n",
    "au <- lm(fu(df2)~y)\n",
    "summary(au)\n"
   ]
  },
  {
   "cell_type": "markdown",
   "id": "67777c80",
   "metadata": {},
   "source": [
    "## Sizes at maturation for males ($S_{m,m}$) and females ($S_{m,f}$)"
   ]
  },
  {
   "cell_type": "markdown",
   "id": "be85c90b",
   "metadata": {},
   "source": [
    "In Thorbjarnarson 1994, pg. 909 mean size at maturation of females is 64 cm SVL. Using the likely conversion of SVL = 4 + 0.5 TL (based on regression of TL = c(165,150,143) and SVL = c(87,79,76) on p.915 and rounding up to the nearest full cm), 64 cm SVL is appx. 120 cm TL. Using the inverse of the weight-length regression above:"
   ]
  },
  {
   "cell_type": "code",
   "execution_count": 13,
   "id": "2c30696b",
   "metadata": {
    "vscode": {
     "languageId": "r"
    }
   },
   "outputs": [],
   "source": [
    "lw <- function(TL) (TL*(1/(7.8136)))^L_e"
   ]
  },
  {
   "cell_type": "markdown",
   "id": "ac8e46aa",
   "metadata": {},
   "source": [
    "So the mean irreversible mass at maturation is:"
   ]
  },
  {
   "cell_type": "code",
   "execution_count": 14,
   "id": "8f1c903c",
   "metadata": {
    "vscode": {
     "languageId": "r"
    }
   },
   "outputs": [],
   "source": [
    "fmat <- lw(120)"
   ]
  },
  {
   "cell_type": "markdown",
   "id": "e2ee7eaa",
   "metadata": {},
   "source": [
    "Assuming an individual at this weight is reproducing, this is Xmat=3622.348 g\n",
    "\n",
    "Thorbjarnarson 94 also reports males to be physiologically mature at 75 cm SVL, so based on SVL=4 + 0.5 *TL this is 142 cm TL\n"
   ]
  },
  {
   "cell_type": "code",
   "execution_count": 15,
   "id": "05a7899b",
   "metadata": {
    "vscode": {
     "languageId": "r"
    }
   },
   "outputs": [
    {
     "name": "stdout",
     "output_type": "stream",
     "text": [
      "[1] \"Sizes at maturation:\"\n",
      "[1] 3622 6002\n"
     ]
    }
   ],
   "source": [
    "mmat <- lw(142)\n",
    "\n",
    "print(\"Sizes at maturation:\")\n",
    "print(signif(c(fmat,mmat),significant_digits))\n"
   ]
  },
  {
   "cell_type": "markdown",
   "id": "6eaeb8c1",
   "metadata": {},
   "source": [
    "## Parameters governing prey group consumption: $\\alpha_{\\textrm{inv}}, \\beta_{\\textrm{inv}}$ and $p_f$"
   ]
  },
  {
   "cell_type": "markdown",
   "id": "e77b6e85",
   "metadata": {},
   "source": [
    "Read in the data from Medem 1981 Table 1C, but with individuals with both fish and tetrapods removed. These are records no. 381, 342, 116, 127,319 in Medem's Table 1C"
   ]
  },
  {
   "cell_type": "code",
   "execution_count": 16,
   "id": "23f168f1",
   "metadata": {
    "vscode": {
     "languageId": "r"
    }
   },
   "outputs": [],
   "source": [
    "data <- read.table(\"MedemFood1C_PrimaryVert.txt\",header=T)"
   ]
  },
  {
   "cell_type": "markdown",
   "id": "73f018d4",
   "metadata": {},
   "source": [
    "\n",
    "Implicit in this approach is that the probability of no invertebrates is inversely proportional to the fraction of the diet that consists of invertebrates. This is because if an individual consumes no invertebrates, then the fraction of their diet that consists of invertebrates is zero. Whereas, if an individual's diet consists exclusively of invertebrates, we assume we will find invertebrate remains. Now, since the probability of finding invertebrates is $1-\\Pr$(no invertebrates), the above reasoning suggests that we can model the fraction of the diet that consists of invertebrates as $\\Pr$(invertebrates) = 1-$\\Pr$(no invertebrates) up to a constant of proportionality. "
   ]
  },
  {
   "cell_type": "code",
   "execution_count": 17,
   "id": "7de8fffc",
   "metadata": {
    "vscode": {
     "languageId": "r"
    }
   },
   "outputs": [
    {
     "data": {
      "text/plain": [
       "\n",
       "Call:\n",
       "glm(formula = data[, \"Invertebrate\"] ~ size_x, family = binomial(link = \"logit\"))\n",
       "\n",
       "Coefficients:\n",
       "              Estimate Std. Error z value Pr(>|z|)    \n",
       "(Intercept)  1.2651733  0.5119695   2.471 0.013466 *  \n",
       "size_x      -0.0021536  0.0005652  -3.811 0.000139 ***\n",
       "---\n",
       "Signif. codes:  0 ‘***’ 0.001 ‘**’ 0.01 ‘*’ 0.05 ‘.’ 0.1 ‘ ’ 1\n",
       "\n",
       "(Dispersion parameter for binomial family taken to be 1)\n",
       "\n",
       "    Null deviance: 94.607  on 77  degrees of freedom\n",
       "Residual deviance: 63.552  on 76  degrees of freedom\n",
       "AIC: 67.552\n",
       "\n",
       "Number of Fisher Scoring iterations: 6\n"
      ]
     },
     "metadata": {},
     "output_type": "display_data"
    },
    {
     "name": "stdout",
     "output_type": "stream",
     "text": [
      "[1] \"Invertebrate consumption parameters:\"\n",
      "(Intercept)      size_x \n",
      "   1.265000   -0.002154 \n"
     ]
    }
   ],
   "source": [
    "lw <- function(TL) (TL*(1/(7.8136)))^3\n",
    "size_x <- lw(data[,'Length'])\n",
    "\n",
    "ons_model <- glm(data[,'Invertebrate']~size_x, family=binomial(link=\"logit\"))\n",
    "summary(ons_model)\n",
    "print(\"Invertebrate consumption parameters:\")\n",
    "print(signif(summary(ons_model)$coefficients[,1],significant_digits))\n",
    "sizes <- seq(min(lw(data[,1])),max(lw(data[,1])),length=50)\n",
    "\n",
    "preds <- predict(ons_model, list(size_x=sizes), type=\"response\")"
   ]
  },
  {
   "cell_type": "markdown",
   "id": "f197a175",
   "metadata": {},
   "source": [
    "For remaining prey, first, remove the cases where there were no other prey items:"
   ]
  },
  {
   "cell_type": "code",
   "execution_count": 18,
   "id": "484e7294",
   "metadata": {
    "vscode": {
     "languageId": "r"
    }
   },
   "outputs": [
    {
     "name": "stdout",
     "output_type": "stream",
     "text": [
      "[1] \"Proportion of vertebrate diet that is fish:\"\n",
      "     F \n",
      "0.7826 \n"
     ]
    }
   ],
   "source": [
    "subset <- which(data[,\"Vertebrate\"] != \"N\")\n",
    "print(\"Proportion of vertebrate diet that is fish:\")\n",
    "print(signif(table(data[subset,\"Vertebrate\"])[1]/length(subset),significant_digits))"
   ]
  },
  {
   "cell_type": "markdown",
   "id": "b7f409e0",
   "metadata": {
    "vscode": {
     "languageId": "r"
    }
   },
   "source": [
    "Thus, we can assume that 36/46 of the vertebrate diet is fish, and a 1-36/46 of the vertebrate diet is non-fish semiaquatic organisms.\n"
   ]
  },
  {
   "cell_type": "markdown",
   "id": "5ab04d0f",
   "metadata": {},
   "source": [
    "## Neonate irreversible mass $\\epsilon$"
   ]
  },
  {
   "cell_type": "code",
   "execution_count": 19,
   "id": "7b5d7aa5",
   "metadata": {
    "vscode": {
     "languageId": "r"
    }
   },
   "outputs": [
    {
     "name": "stdout",
     "output_type": "stream",
     "text": [
      "[1] \"Neonate irreversible mass:\"\n",
      "[1] 21.98\n"
     ]
    }
   ],
   "source": [
    "print(\"Neonate irreversible mass:\")\n",
    "print(signif(38.2/(q_J+1), significant_digits))"
   ]
  },
  {
   "cell_type": "markdown",
   "id": "84b3e741",
   "metadata": {},
   "source": [
    "## Parameters related to mortality: $\\alpha_m, \\beta_m, b_{s_0}$ and $b_s$."
   ]
  },
  {
   "cell_type": "markdown",
   "id": "f840ad3c",
   "metadata": {},
   "source": [
    " The equation for starvation induced mortality can be calculated as follows. Assume that at maximum condition 1e-10 die and if the starvation condition is reached 1-1e-10 die after 4 months (the duration of Garnett 1986's experiment). Note everything is converted to the scaled daily rate. Thus:\n"
   ]
  },
  {
   "cell_type": "code",
   "execution_count": 20,
   "id": "77ddf8c8",
   "metadata": {
    "vscode": {
     "languageId": "r"
    }
   },
   "outputs": [],
   "source": [
    "pS1 <- c(q_J, (1e-10))"
   ]
  },
  {
   "cell_type": "markdown",
   "id": "ef012ae9",
   "metadata": {},
   "source": [
    " Per Garnett 1986, individuals who lose 27.4% of their body weight died of starvation after four months. So let their daily survivorship be $(1e-10)^{(1/(30*4)})$"
   ]
  },
  {
   "cell_type": "code",
   "execution_count": 21,
   "id": "9110e60f",
   "metadata": {
    "vscode": {
     "languageId": "r"
    }
   },
   "outputs": [],
   "source": [
    "starv_loss <- 0.274"
   ]
  },
  {
   "cell_type": "markdown",
   "id": "769e031a",
   "metadata": {},
   "source": [
    " Therefore, if an individual at the juvenile maximum condition has weight $(1+q_J)x$, then at starvation they will have weight (1+$q_J$)(1-starv_loss). Thus the ratio of reversible to irreversible mass at this point is:"
   ]
  },
  {
   "cell_type": "code",
   "execution_count": 22,
   "id": "e60232a1",
   "metadata": {
    "vscode": {
     "languageId": "r"
    }
   },
   "outputs": [],
   "source": [
    "starv_ratio <- (1+q_J)*(1-starv_loss)-1"
   ]
  },
  {
   "cell_type": "markdown",
   "id": "41c1fa50",
   "metadata": {},
   "source": [
    "where -1 is to account for irreversible mass. This ensures starv_ration + starv_loss = 1. Now,"
   ]
  },
  {
   "cell_type": "code",
   "execution_count": 23,
   "id": "56873b51",
   "metadata": {
    "vscode": {
     "languageId": "r"
    }
   },
   "outputs": [],
   "source": [
    "pS2 <- c(starv_ratio, (1-1e-10))"
   ]
  },
  {
   "cell_type": "markdown",
   "id": "ecaa3026",
   "metadata": {},
   "source": [
    "\n",
    "Thus from the equality of slopes, $(y-y2)/(x-x2) = (y1-y2)/(x1-x2)$\n",
    "\n",
    "or\n",
    "\n",
    "$\\rightarrow (y-log(0.9999))/(x-log$(starv_ratio)$) = (log(0.0001)-log(0.9999))/(log(q_J)-log$(starv_ratio)$)$\n",
    "\n",
    "$\\rightarrow (y-log(0.9999))= (log(0.0001)-log(0.9999))/(log(q_J)-log$(starv_ratio)$)*(x-log$(starv_ratio)$)$\n",
    "\n",
    "$\\rightarrow y = (log(0.0001)-log(0.9999))/(log(q_J)-log$(starv_ratio)$)*(x-log$(starv_ratio)$)+log(0.9999)$"
   ]
  },
  {
   "cell_type": "code",
   "execution_count": 24,
   "id": "9610ada6",
   "metadata": {
    "vscode": {
     "languageId": "r"
    }
   },
   "outputs": [],
   "source": [
    "y <- function(x) (exp((log(pS1[2])-log(pS2[2]))/(log(pS1[1])-log(pS2[1]))*(log(x)-log(pS2[1]))+log(pS2[2])))"
   ]
  },
  {
   "cell_type": "markdown",
   "id": "39861486",
   "metadata": {},
   "source": [
    " This may seem generous, but accords with Garnett 1986's discussion that crocodilians appear to be able to go very long periods without starvation-induced effects. Thus the coefficients are "
   ]
  },
  {
   "cell_type": "code",
   "execution_count": 25,
   "id": "f199ca23",
   "metadata": {
    "vscode": {
     "languageId": "r"
    }
   },
   "outputs": [
    {
     "name": "stdout",
     "output_type": "stream",
     "text": [
      "[1] \"Starvation equation constant & coefficient:\"\n",
      "[1] -29.78 -22.21\n"
     ]
    }
   ],
   "source": [
    "bs <- (log(pS1[2])-log(pS2[2]))/(log(pS1[1])-log(pS2[1]))\n",
    "bs0 <- bs*(-log(pS2[1]))+log(pS2[2])\n",
    "print(\"Starvation equation constant & coefficient:\")\n",
    "print(signif(c(bs0,bs),significant_digits))"
   ]
  },
  {
   "cell_type": "markdown",
   "id": "63baebf5",
   "metadata": {},
   "source": [
    " Size-dependent survivorship from other sources, esp. predation, can be estimated using the formula for logistic regression using first year survivorships based on Webb and Smith (Table 1 pg. 542)"
   ]
  },
  {
   "cell_type": "code",
   "execution_count": 26,
   "id": "d7da5a14",
   "metadata": {
    "vscode": {
     "languageId": "r"
    }
   },
   "outputs": [],
   "source": [
    "wtX <- c(38.2/(q_J+1),lw((72))) # Irreversible mass at birth and consider individuals with SVL >= 40cm, who are likely to suffer very low predation. (e.g., Ayarzaguena 1983, \"Las babas que superan el tamano medio de la Clase II (Lcc 400mm) puede suponerse que no tienen actualmente depradores naturales en el area de El Frio. (pg. 119)... Pasado este tiempo las babas alcanzan un talla proximo a medio metro (i.e., 50cm) que imposibilita mucho la predacion, aunque los peligros no desaparecen hasta un ano mas tarde (p. 122)\")  Using the regression SVL = 4 + 0.5 TL from above, SVL of 40cm=TL of 72cm, which translates into a weight of lw(72)\n",
    "survs <- c((1-.88)^(1/intra_step_time_steps), (1-1e-10)) # Assume that individuals at the size >40 cm SVL only suffer baseline (Weigl 2014) mortality \n",
    "p1 <- c(wtX[1],survs[1])\n",
    "p2 <- c(wtX[2],survs[2]) "
   ]
  },
  {
   "cell_type": "markdown",
   "id": "dd5f6a57",
   "metadata": {},
   "source": [
    "Using the logit transform of the logistic function $\\frac{1}{(1+\\exp(-(\\alpha_m+\\beta_m x)))}$ (i.e., log(y/(1-y))) we get the system of equations:\n",
    "\n",
    "$\\alpha_m + \\beta_m*p1[1]=log(p1[2]/(1-p1[2]))$\n",
    "\n",
    "and \n",
    " \n",
    "$\\alpha_m + \\beta_m*p2[1]=log(p2[2]/(1-p2[2]))$\n",
    "\n",
    "Solving for $\\alpha_m,\\beta_m$ we get:\n",
    "\n",
    "$\\alpha_m=log(p1[2]/(1-p1[2]))-\\beta_m*p1[1]$\n",
    "\n",
    "$ log(p1[2]/(1-p1[2]))-\\beta_m*p1[1] +\\beta_m*p2[1] = log(p2[2]/(1-p2[2]))$\n",
    "\n",
    "$ \\beta_m*(p2[1]-p1[1])=log(p2[2]/(1-p2[2]))-log(p1[2]/(1-p1[2]))$\n",
    "\n",
    "and thus:"
   ]
  },
  {
   "cell_type": "code",
   "execution_count": 27,
   "id": "22e62c3a",
   "metadata": {
    "vscode": {
     "languageId": "r"
    }
   },
   "outputs": [
    {
     "name": "stdout",
     "output_type": "stream",
     "text": [
      "[1] \"Size specific survivorship constant and coefficient\"\n",
      "[1] 0.02537 3.17900\n"
     ]
    }
   ],
   "source": [
    "surv_coef <- (log(p2[2]/(1-p2[2]))-log(p1[2]/(1-p1[2])))/(p2[1]-p1[1])\n",
    "surv_const <- log(p1[2]/(1-p1[2]))-(log(p2[2]/(1-p2[2]))-log(p1[2]/(1-p1[2])))/(p2[1]-p1[1])*p1[1]\n",
    "print(\"Size specific survivorship constant and coefficient\")\n",
    "print(signif(c(surv_coef, surv_const),significant_digits))"
   ]
  },
  {
   "cell_type": "markdown",
   "id": "383d1240",
   "metadata": {},
   "source": [
    "## Parameters related to recruitment of prey groups $r_{\\textrm{fish}}, K_{\\textrm{fish}}:K_{\\textrm{tetr}}$ and $r_{\\textrm{tetr}}$  "
   ]
  },
  {
   "cell_type": "markdown",
   "id": "f13e9e6e",
   "metadata": {},
   "source": [
    "If we model the consumable resource biomass as consisting of average-sized individuals of the prey group with average fractions of consumable biomass, the per-unit increase in average consumable biomass should be directly proportional, on average, to the population density-independent recruitment rate. The density-independent recruitment $r_{\\textrm{fish}}$ of fish prey group biomass can therefore be inferred from Myers et al. 1999"
   ]
  },
  {
   "cell_type": "code",
   "execution_count": 28,
   "id": "c69a8000",
   "metadata": {
    "vscode": {
     "languageId": "r"
    }
   },
   "outputs": [
    {
     "name": "stdout",
     "output_type": "stream",
     "text": [
      "[1] \"Maximum fish growth rate:\"\n",
      "[1] 1.026\n"
     ]
    }
   ],
   "source": [
    "fish <- read.table(\"fish_alpha.txt\",header=TRUE)\n",
    "print(\"Maximum fish growth rate:\")\n",
    "print(signif(median(fish[,1])^(1/intra_step_time_steps),significant_digits))"
   ]
  },
  {
   "cell_type": "markdown",
   "id": "2d3ada6e",
   "metadata": {},
   "source": [
    "The fish:tetrapod biomass ratio reported in Casagranda and Boudouresque 2009 yields "
   ]
  },
  {
   "cell_type": "code",
   "execution_count": 29,
   "id": "fa182a95",
   "metadata": {
    "vscode": {
     "languageId": "r"
    }
   },
   "outputs": [
    {
     "name": "stdout",
     "output_type": "stream",
     "text": [
      "[1] 0.06436\n"
     ]
    }
   ],
   "source": [
    "print(signif( (1.3/(6.4+13.8)),significant_digits))"
   ]
  },
  {
   "cell_type": "markdown",
   "id": "30312dfa",
   "metadata": {},
   "source": [
    "From there, $r_{\\textrm{tetr}}$ was determined as described in Table 1 of the main text. "
   ]
  }
 ],
 "metadata": {
  "kernelspec": {
   "display_name": "R",
   "language": "R",
   "name": "ir"
  },
  "language_info": {
   "codemirror_mode": "r",
   "file_extension": ".r",
   "mimetype": "text/x-r-source",
   "name": "R",
   "pygments_lexer": "r",
   "version": "4.5.0"
  }
 },
 "nbformat": 4,
 "nbformat_minor": 5
}
